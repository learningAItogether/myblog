{
 "cells": [
  {
   "cell_type": "markdown",
   "id": "3fcf8cac",
   "metadata": {},
   "source": [
    "## NumPy 百题大冲关｜学习版"
   ]
  },
  {
   "cell_type": "markdown",
   "id": "6ac22709",
   "metadata": {},
   "source": [
    "---"
   ]
  },
  {
   "cell_type": "markdown",
   "id": "8d81dd97",
   "metadata": {},
   "source": [
    "#### 介绍"
   ]
  },
  {
   "cell_type": "markdown",
   "id": "9d6e7b7f",
   "metadata": {},
   "source": [
    "NumPy 是 Python 语言的一个第三方库，其支持大量高维度数组与矩阵运算。此外，NumPy 也针对数组运算提供大量的数学函数。机器学习涉及到大量对数组的变换和运算，NumPy 就成了必不可少的工具之一。NumPy 百题大冲关分为基础篇和进阶篇，每部分各有 50 道练习题。基础部分的练习题在于熟悉 NumPy 常用方法的使用，而进阶部分则侧重于 NumPy 方法的组合应用。"
   ]
  },
  {
   "cell_type": "markdown",
   "id": "1d017a1e",
   "metadata": {},
   "source": [
    "---"
   ]
  },
  {
   "cell_type": "markdown",
   "id": "ce0c56e3",
   "metadata": {},
   "source": [
    "<div class=\"alert alert-info\"><p>本次实验为 Notebook 实验，前后单元格之间有关联性，你需要按顺序执行单元格，跳跃或重复执行部分单元格可能会造成赋值混乱。</p></div>"
   ]
  },
  {
   "cell_type": "markdown",
   "id": "b13bf818",
   "metadata": {},
   "source": [
    "### 基础部分"
   ]
  },
  {
   "cell_type": "markdown",
   "id": "48b49974",
   "metadata": {},
   "source": [
    "练习 NumPy 之前，首先需要导入 NumPy 模块，并约定简称为 `np`。"
   ]
  },
  {
   "cell_type": "markdown",
   "id": "0e8e04fd",
   "metadata": {},
   "source": [
    "<i class=\"fa fa-arrow-circle-down\" aria-hidden=\"true\"> 教学代码</i>："
   ]
  },
  {
   "cell_type": "markdown",
   "id": "061b7d48",
   "metadata": {},
   "source": [
    "**1. 导入 NumPy：**"
   ]
  },
  {
   "cell_type": "code",
   "execution_count": 7,
   "id": "db008aa9",
   "metadata": {},
   "outputs": [],
   "source": [
    "import numpy as np"
   ]
  },
  {
   "cell_type": "markdown",
   "id": "a0dd1a9e",
   "metadata": {},
   "source": [
    "<i class=\"fa fa-arrow-circle-down\" aria-hidden=\"true\"> 动手练习</i>｜如果你对课程所使用的蓝桥云课 Notebook 在线环境并不熟悉，可以先学习\n",
    "[<i class=\"fa fa-external-link-square\" aria-hidden=\"true\"> 使用指南课程</i>](https://www.lanqiao.cn/courses/1322)。"
   ]
  },
  {
   "cell_type": "markdown",
   "id": "d936bba7",
   "metadata": {},
   "source": [
    "### 创建数组"
   ]
  },
  {
   "cell_type": "markdown",
   "id": "956d1bda",
   "metadata": {},
   "source": [
    "Min-Max 标准化公式："
   ]
  },
  {
   "cell_type": "markdown",
   "id": "af831ea7",
   "metadata": {},
   "source": [
    "$$Y = \\frac{Z-\\min(Z)}{\\max(Z)-\\min(Z)}$$"
   ]
  },
  {
   "cell_type": "code",
   "execution_count": 11,
   "id": "5b6cba87",
   "metadata": {},
   "outputs": [
    {
     "name": "stdout",
     "output_type": "stream",
     "text": [
      "[[4 0 9 4 1]\n",
      " [7 5 9 8 0]\n",
      " [7 6 6 7 7]\n",
      " [6 8 3 4 2]\n",
      " [4 5 1 2 8]]\n"
     ]
    },
    {
     "data": {
      "text/plain": [
       "array([[0.37463432, 0.        , 0.84292723, 0.37463432, 0.09365858],\n",
       "       [0.47301616, 0.33786869, 0.60816364, 0.5405899 , 0.        ],\n",
       "       [0.47301616, 0.40544243, 0.40544243, 0.47301616, 0.47301616],\n",
       "       [0.52827054, 0.70436073, 0.26413527, 0.35218036, 0.17609018],\n",
       "       [0.38138504, 0.47673129, 0.09534626, 0.19069252, 0.76277007]])"
      ]
     },
     "execution_count": 11,
     "metadata": {},
     "output_type": "execute_result"
    }
   ],
   "source": [
    "# 根据公式定义函数\n",
    "def l2_normalize(v, axis=-1, order=2):\n",
    "    l2 = np.linalg.norm(v, ord=order, axis=axis, keepdims=True)\n",
    "    l2[l2 == 0] = 1\n",
    "    return v/l2\n",
    "\n",
    "# 生成随机数据\n",
    "Z = np.random.randint(10, size=(5, 5))\n",
    "print(Z)\n",
    "\n",
    "l2_normalize(Z)"
   ]
  },
  {
   "cell_type": "code",
   "execution_count": 12,
   "id": "e6ec247e",
   "metadata": {},
   "outputs": [
    {
     "data": {
      "text/plain": [
       "array([[ 1.        , -0.05640533,  0.97094584],\n",
       "       [-0.05640533,  1.        , -0.01315587],\n",
       "       [ 0.97094584, -0.01315587,  1.        ]])"
      ]
     },
     "execution_count": 12,
     "metadata": {},
     "output_type": "execute_result"
    }
   ],
   "source": [
    "Z = np.array([\n",
    "    [1, 2, 1, 9, 10, 3, 2, 6, 7],  # 特征 A\n",
    "    [2, 1, 8, 3, 7, 5, 10, 7, 2],  # 特征 B\n",
    "    [2, 1, 1, 8, 9, 4, 3, 5, 7]])  # 特征 C\n",
    "\n",
    "np.corrcoef(Z)"
   ]
  },
  {
   "cell_type": "markdown",
   "id": "87641efc",
   "metadata": {},
   "source": [
    "<div style=\"font-size:14px; line-height:17px;\" class=\"hljs\">\n",
    "         [A]     [B]     [C]\n",
    "array([[ 1.  , -0.06,  0.97]   [A]\n",
    "       [-0.06,  1.  , -0.01],  [B]\n",
    "       [ 0.97, -0.01,  1.  ]]) [C]\n",
    "</div>"
   ]
  },
  {
   "cell_type": "markdown",
   "id": "a0bdc9bf",
   "metadata": {},
   "source": [
    "<hr><div style=\"color: #999; font-size: 12px;\"><i class=\"fa fa-copyright\" aria-hidden=\"true\"> 本课程内容版权归蓝桥云课所有，禁止转载、下载及非法传播。实验中少量题目编译自：<a href=\"https://github.com/rougier/numpy-100\">100 numpy exercises</a></i></div>"
   ]
  },
  {
   "cell_type": "code",
   "execution_count": null,
   "id": "7d29267a",
   "metadata": {},
   "outputs": [],
   "source": []
  }
 ],
 "metadata": {
  "kernelspec": {
   "display_name": "Python 3 (ipykernel)",
   "language": "python",
   "name": "python3"
  },
  "language_info": {
   "codemirror_mode": {
    "name": "ipython",
    "version": 3
   },
   "file_extension": ".py",
   "mimetype": "text/x-python",
   "name": "python",
   "nbconvert_exporter": "python",
   "pygments_lexer": "ipython3",
   "version": "3.9.7"
  },
  "toc": {
   "base_numbering": 1,
   "nav_menu": {
    "height": "101.004px",
    "width": "242.765px"
   },
   "number_sections": true,
   "sideBar": true,
   "skip_h1_title": false,
   "title_cell": "Table of Contents",
   "title_sidebar": "Contents",
   "toc_cell": false,
   "toc_position": {
    "height": "calc(100% - 180px)",
    "left": "10px",
    "top": "150px",
    "width": "167.512px"
   },
   "toc_section_display": true,
   "toc_window_display": true
  }
 },
 "nbformat": 4,
 "nbformat_minor": 5
}
